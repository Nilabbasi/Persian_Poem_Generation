{
  "metadata": {
    "kernelspec": {
      "display_name": "Python 3",
      "name": "python3"
    },
    "language_info": {
      "name": "python",
      "version": "3.10.12",
      "mimetype": "text/x-python",
      "codemirror_mode": {
        "name": "ipython",
        "version": 3
      },
      "pygments_lexer": "ipython3",
      "nbconvert_exporter": "python",
      "file_extension": ".py"
    },
    "kaggle": {
      "accelerator": "nvidiaTeslaT4",
      "dataSources": [
        {
          "sourceId": 7436819,
          "sourceType": "datasetVersion",
          "datasetId": 4328270
        }
      ],
      "dockerImageVersionId": 30636,
      "isInternetEnabled": true,
      "language": "python",
      "sourceType": "notebook",
      "isGpuEnabled": true
    },
    "colab": {
      "provenance": [],
      "gpuType": "T4"
    },
    "accelerator": "GPU",
    "widgets": {
      "application/vnd.jupyter.widget-state+json": {
        "74d10b31b3b648ef839412b5b0cf53ea": {
          "model_module": "@jupyter-widgets/controls",
          "model_name": "HBoxModel",
          "model_module_version": "1.5.0",
          "state": {
            "_dom_classes": [],
            "_model_module": "@jupyter-widgets/controls",
            "_model_module_version": "1.5.0",
            "_model_name": "HBoxModel",
            "_view_count": null,
            "_view_module": "@jupyter-widgets/controls",
            "_view_module_version": "1.5.0",
            "_view_name": "HBoxView",
            "box_style": "",
            "children": [
              "IPY_MODEL_01fdf39772ef44ca9b18d6ec35866988",
              "IPY_MODEL_e36fa20429c9451b8d6cb0c15687ba85",
              "IPY_MODEL_bb27533c5c4e428fa0a3ac661fbc870b"
            ],
            "layout": "IPY_MODEL_991555ae97a94ee58af72b8c69e37ade"
          }
        },
        "01fdf39772ef44ca9b18d6ec35866988": {
          "model_module": "@jupyter-widgets/controls",
          "model_name": "HTMLModel",
          "model_module_version": "1.5.0",
          "state": {
            "_dom_classes": [],
            "_model_module": "@jupyter-widgets/controls",
            "_model_module_version": "1.5.0",
            "_model_name": "HTMLModel",
            "_view_count": null,
            "_view_module": "@jupyter-widgets/controls",
            "_view_module_version": "1.5.0",
            "_view_name": "HTMLView",
            "description": "",
            "description_tooltip": null,
            "layout": "IPY_MODEL_73c5bc14bb274aa4b4abea8ebc50dc11",
            "placeholder": "​",
            "style": "IPY_MODEL_2552432d25394944838481c83d8cce6b",
            "value": "pytorch_model.bin: 100%"
          }
        },
        "e36fa20429c9451b8d6cb0c15687ba85": {
          "model_module": "@jupyter-widgets/controls",
          "model_name": "FloatProgressModel",
          "model_module_version": "1.5.0",
          "state": {
            "_dom_classes": [],
            "_model_module": "@jupyter-widgets/controls",
            "_model_module_version": "1.5.0",
            "_model_name": "FloatProgressModel",
            "_view_count": null,
            "_view_module": "@jupyter-widgets/controls",
            "_view_module_version": "1.5.0",
            "_view_name": "ProgressView",
            "bar_style": "success",
            "description": "",
            "description_tooltip": null,
            "layout": "IPY_MODEL_b8573069fd0b425ebb347d16347e4740",
            "max": 485044198,
            "min": 0,
            "orientation": "horizontal",
            "style": "IPY_MODEL_29bb5bb6a58f488e84cd56aa1833ea63",
            "value": 485044198
          }
        },
        "bb27533c5c4e428fa0a3ac661fbc870b": {
          "model_module": "@jupyter-widgets/controls",
          "model_name": "HTMLModel",
          "model_module_version": "1.5.0",
          "state": {
            "_dom_classes": [],
            "_model_module": "@jupyter-widgets/controls",
            "_model_module_version": "1.5.0",
            "_model_name": "HTMLModel",
            "_view_count": null,
            "_view_module": "@jupyter-widgets/controls",
            "_view_module_version": "1.5.0",
            "_view_name": "HTMLView",
            "description": "",
            "description_tooltip": null,
            "layout": "IPY_MODEL_ecb9dd7b3c3e430098368b09dab244b5",
            "placeholder": "​",
            "style": "IPY_MODEL_75dbb056027d4da8ab3af8479e6345ef",
            "value": " 485M/485M [00:04&lt;00:00, 50.9MB/s]"
          }
        },
        "991555ae97a94ee58af72b8c69e37ade": {
          "model_module": "@jupyter-widgets/base",
          "model_name": "LayoutModel",
          "model_module_version": "1.2.0",
          "state": {
            "_model_module": "@jupyter-widgets/base",
            "_model_module_version": "1.2.0",
            "_model_name": "LayoutModel",
            "_view_count": null,
            "_view_module": "@jupyter-widgets/base",
            "_view_module_version": "1.2.0",
            "_view_name": "LayoutView",
            "align_content": null,
            "align_items": null,
            "align_self": null,
            "border": null,
            "bottom": null,
            "display": null,
            "flex": null,
            "flex_flow": null,
            "grid_area": null,
            "grid_auto_columns": null,
            "grid_auto_flow": null,
            "grid_auto_rows": null,
            "grid_column": null,
            "grid_gap": null,
            "grid_row": null,
            "grid_template_areas": null,
            "grid_template_columns": null,
            "grid_template_rows": null,
            "height": null,
            "justify_content": null,
            "justify_items": null,
            "left": null,
            "margin": null,
            "max_height": null,
            "max_width": null,
            "min_height": null,
            "min_width": null,
            "object_fit": null,
            "object_position": null,
            "order": null,
            "overflow": null,
            "overflow_x": null,
            "overflow_y": null,
            "padding": null,
            "right": null,
            "top": null,
            "visibility": null,
            "width": null
          }
        },
        "73c5bc14bb274aa4b4abea8ebc50dc11": {
          "model_module": "@jupyter-widgets/base",
          "model_name": "LayoutModel",
          "model_module_version": "1.2.0",
          "state": {
            "_model_module": "@jupyter-widgets/base",
            "_model_module_version": "1.2.0",
            "_model_name": "LayoutModel",
            "_view_count": null,
            "_view_module": "@jupyter-widgets/base",
            "_view_module_version": "1.2.0",
            "_view_name": "LayoutView",
            "align_content": null,
            "align_items": null,
            "align_self": null,
            "border": null,
            "bottom": null,
            "display": null,
            "flex": null,
            "flex_flow": null,
            "grid_area": null,
            "grid_auto_columns": null,
            "grid_auto_flow": null,
            "grid_auto_rows": null,
            "grid_column": null,
            "grid_gap": null,
            "grid_row": null,
            "grid_template_areas": null,
            "grid_template_columns": null,
            "grid_template_rows": null,
            "height": null,
            "justify_content": null,
            "justify_items": null,
            "left": null,
            "margin": null,
            "max_height": null,
            "max_width": null,
            "min_height": null,
            "min_width": null,
            "object_fit": null,
            "object_position": null,
            "order": null,
            "overflow": null,
            "overflow_x": null,
            "overflow_y": null,
            "padding": null,
            "right": null,
            "top": null,
            "visibility": null,
            "width": null
          }
        },
        "2552432d25394944838481c83d8cce6b": {
          "model_module": "@jupyter-widgets/controls",
          "model_name": "DescriptionStyleModel",
          "model_module_version": "1.5.0",
          "state": {
            "_model_module": "@jupyter-widgets/controls",
            "_model_module_version": "1.5.0",
            "_model_name": "DescriptionStyleModel",
            "_view_count": null,
            "_view_module": "@jupyter-widgets/base",
            "_view_module_version": "1.2.0",
            "_view_name": "StyleView",
            "description_width": ""
          }
        },
        "b8573069fd0b425ebb347d16347e4740": {
          "model_module": "@jupyter-widgets/base",
          "model_name": "LayoutModel",
          "model_module_version": "1.2.0",
          "state": {
            "_model_module": "@jupyter-widgets/base",
            "_model_module_version": "1.2.0",
            "_model_name": "LayoutModel",
            "_view_count": null,
            "_view_module": "@jupyter-widgets/base",
            "_view_module_version": "1.2.0",
            "_view_name": "LayoutView",
            "align_content": null,
            "align_items": null,
            "align_self": null,
            "border": null,
            "bottom": null,
            "display": null,
            "flex": null,
            "flex_flow": null,
            "grid_area": null,
            "grid_auto_columns": null,
            "grid_auto_flow": null,
            "grid_auto_rows": null,
            "grid_column": null,
            "grid_gap": null,
            "grid_row": null,
            "grid_template_areas": null,
            "grid_template_columns": null,
            "grid_template_rows": null,
            "height": null,
            "justify_content": null,
            "justify_items": null,
            "left": null,
            "margin": null,
            "max_height": null,
            "max_width": null,
            "min_height": null,
            "min_width": null,
            "object_fit": null,
            "object_position": null,
            "order": null,
            "overflow": null,
            "overflow_x": null,
            "overflow_y": null,
            "padding": null,
            "right": null,
            "top": null,
            "visibility": null,
            "width": null
          }
        },
        "29bb5bb6a58f488e84cd56aa1833ea63": {
          "model_module": "@jupyter-widgets/controls",
          "model_name": "ProgressStyleModel",
          "model_module_version": "1.5.0",
          "state": {
            "_model_module": "@jupyter-widgets/controls",
            "_model_module_version": "1.5.0",
            "_model_name": "ProgressStyleModel",
            "_view_count": null,
            "_view_module": "@jupyter-widgets/base",
            "_view_module_version": "1.2.0",
            "_view_name": "StyleView",
            "bar_color": null,
            "description_width": ""
          }
        },
        "ecb9dd7b3c3e430098368b09dab244b5": {
          "model_module": "@jupyter-widgets/base",
          "model_name": "LayoutModel",
          "model_module_version": "1.2.0",
          "state": {
            "_model_module": "@jupyter-widgets/base",
            "_model_module_version": "1.2.0",
            "_model_name": "LayoutModel",
            "_view_count": null,
            "_view_module": "@jupyter-widgets/base",
            "_view_module_version": "1.2.0",
            "_view_name": "LayoutView",
            "align_content": null,
            "align_items": null,
            "align_self": null,
            "border": null,
            "bottom": null,
            "display": null,
            "flex": null,
            "flex_flow": null,
            "grid_area": null,
            "grid_auto_columns": null,
            "grid_auto_flow": null,
            "grid_auto_rows": null,
            "grid_column": null,
            "grid_gap": null,
            "grid_row": null,
            "grid_template_areas": null,
            "grid_template_columns": null,
            "grid_template_rows": null,
            "height": null,
            "justify_content": null,
            "justify_items": null,
            "left": null,
            "margin": null,
            "max_height": null,
            "max_width": null,
            "min_height": null,
            "min_width": null,
            "object_fit": null,
            "object_position": null,
            "order": null,
            "overflow": null,
            "overflow_x": null,
            "overflow_y": null,
            "padding": null,
            "right": null,
            "top": null,
            "visibility": null,
            "width": null
          }
        },
        "75dbb056027d4da8ab3af8479e6345ef": {
          "model_module": "@jupyter-widgets/controls",
          "model_name": "DescriptionStyleModel",
          "model_module_version": "1.5.0",
          "state": {
            "_model_module": "@jupyter-widgets/controls",
            "_model_module_version": "1.5.0",
            "_model_name": "DescriptionStyleModel",
            "_view_count": null,
            "_view_module": "@jupyter-widgets/base",
            "_view_module_version": "1.2.0",
            "_view_name": "StyleView",
            "description_width": ""
          }
        }
      }
    }
  },
  "nbformat_minor": 0,
  "nbformat": 4,
  "cells": [
    {
      "cell_type": "markdown",
      "source": [
        "---\n",
        "---\n",
        "\n",
        "# **Niloufar Abbasi | 401209996**\n",
        "# Deep Learning, Homework 4, Part3\n",
        "\n",
        "---\n",
        "---"
      ],
      "metadata": {
        "id": "9cDK5UiFWAdR"
      }
    },
    {
      "cell_type": "markdown",
      "source": [
        "Please note that all cells should be executed sequentially. Running certain cells, especially those involved in processing steps such as dropping data, more than once may yield different results.\n",
        "\n",
        "---\n"
      ],
      "metadata": {
        "id": "Xey-d3YzY6F3"
      }
    },
    {
      "cell_type": "markdown",
      "source": [
        "In this script, I employ a combination of Markdown cells and in-cell comments placed throughout the code to provide explanations, making it easy to understand the functionality and purpose of each section.\n",
        "\n",
        "---"
      ],
      "metadata": {
        "id": "O1ckJcU_5x-Q"
      }
    },
    {
      "cell_type": "markdown",
      "source": [
        "### Table of Contents\n",
        "- Required Libraries\n",
        "- Dataset Loading and Preprocessing\n",
        "- Tokenization and Data Preparation\n",
        "- Model Training and Fine Tuning\n",
        "- Evaluation & Results\n",
        "\n",
        "---"
      ],
      "metadata": {
        "id": "0fQvctCj4ypx"
      }
    },
    {
      "cell_type": "markdown",
      "source": [
        "**Required Libraries**"
      ],
      "metadata": {
        "id": "TaLGC5DsWAdd"
      }
    },
    {
      "cell_type": "code",
      "source": [
        "import pandas            as pd\n",
        "import numpy             as np\n",
        "import matplotlib.pyplot as plt\n",
        "import torch\n",
        "import torch.nn          as nn\n",
        "\n",
        "from torch.utils.data        import Dataset, DataLoader\n",
        "from transformers            import GPT2Tokenizer, GPT2LMHeadModel, AdamW\n",
        "from torch.cuda.amp          import autocast, GradScaler\n",
        "from sklearn.model_selection import train_test_split\n",
        "from torch.nn                import CrossEntropyLoss\n",
        "from transformers            import pipeline"
      ],
      "metadata": {
        "execution": {
          "iopub.status.busy": "2024-01-19T19:43:53.952798Z",
          "iopub.execute_input": "2024-01-19T19:43:53.953114Z",
          "iopub.status.idle": "2024-01-19T19:43:53.958590Z",
          "shell.execute_reply.started": "2024-01-19T19:43:53.953089Z",
          "shell.execute_reply": "2024-01-19T19:43:53.957497Z"
        },
        "trusted": true,
        "id": "JWxEIkOsWAde"
      },
      "execution_count": 11,
      "outputs": []
    },
    {
      "cell_type": "markdown",
      "source": [
        "---\n",
        "\n",
        "# **Part (A)**\n",
        "\n",
        "---"
      ],
      "metadata": {
        "id": "UB6YTDX-WAdi"
      }
    },
    {
      "cell_type": "markdown",
      "source": [
        "**Load the dataset**"
      ],
      "metadata": {
        "id": "l13zUsgtWAdj"
      }
    },
    {
      "cell_type": "code",
      "source": [
        "#with open('/kaggle/input/ferdousi/ferdousi.txt', 'r') as file:\n",
        "#    lines = file.readlines()\n",
        "\n",
        "with open('ferdousi.txt', 'r') as file:\n",
        "    lines = file.readlines()"
      ],
      "metadata": {
        "execution": {
          "iopub.status.busy": "2024-01-19T19:43:53.960166Z",
          "iopub.execute_input": "2024-01-19T19:43:53.960435Z",
          "iopub.status.idle": "2024-01-19T19:43:54.006749Z",
          "shell.execute_reply.started": "2024-01-19T19:43:53.960413Z",
          "shell.execute_reply": "2024-01-19T19:43:54.006055Z"
        },
        "trusted": true,
        "id": "qq4HPMzbWAdk"
      },
      "execution_count": 12,
      "outputs": []
    },
    {
      "cell_type": "markdown",
      "source": [
        "**Process each line**"
      ],
      "metadata": {
        "id": "fV7PwVKLWAdl"
      }
    },
    {
      "cell_type": "code",
      "source": [
        "data = []\n",
        "for i, line in enumerate(lines):\n",
        "    line = line.strip()  # remove newline character\n",
        "    if i % 2 == 0:\n",
        "        data.append({\"mesra1\": line})\n",
        "    else:\n",
        "        data[-1][\"mesra2\"] = line"
      ],
      "metadata": {
        "execution": {
          "iopub.status.busy": "2024-01-19T19:43:54.008555Z",
          "iopub.execute_input": "2024-01-19T19:43:54.008843Z",
          "iopub.status.idle": "2024-01-19T19:43:54.099113Z",
          "shell.execute_reply.started": "2024-01-19T19:43:54.008801Z",
          "shell.execute_reply": "2024-01-19T19:43:54.097877Z"
        },
        "trusted": true,
        "id": "D7W_UNRqWAdm"
      },
      "execution_count": 13,
      "outputs": []
    },
    {
      "cell_type": "markdown",
      "source": [
        "**Convert to DataFrame**"
      ],
      "metadata": {
        "id": "NIpXAWKpWAdo"
      }
    },
    {
      "cell_type": "code",
      "source": [
        "data = pd.DataFrame(data)\n",
        "# Switch the columns to be in their right position ( like a real 'beyt' :) )\n",
        "data = data[[\"mesra2\", \"mesra1\"]]\n",
        "data.head(10)"
      ],
      "metadata": {
        "execution": {
          "iopub.status.busy": "2024-01-19T19:43:54.100769Z",
          "iopub.execute_input": "2024-01-19T19:43:54.101156Z",
          "iopub.status.idle": "2024-01-19T19:43:54.160406Z",
          "shell.execute_reply.started": "2024-01-19T19:43:54.101122Z",
          "shell.execute_reply": "2024-01-19T19:43:54.157651Z"
        },
        "trusted": true,
        "colab": {
          "base_uri": "https://localhost:8080/",
          "height": 363
        },
        "id": "9m0PLZMbWAdp",
        "outputId": "656fc64c-97c5-4c5e-dbb7-b118a084ebd7"
      },
      "execution_count": 14,
      "outputs": [
        {
          "output_type": "execute_result",
          "data": {
            "text/plain": [
              "                          mesra2                       mesra1\n",
              "0        number of beyts:\\t49609                 ferdousi.txt\n",
              "1       کزین برتر اندیشه برنگذرد      به نام خداوند جان و خرد\n",
              "2          خداوند روزی ده رهنمای      خداوند نام و خداوند جای\n",
              "3      فروزنده ماه و ناهید و مهر    خداوند کیوان و گردان سپهر\n",
              "4         نگارندهٔ بر شده پیکرست   ز نام و نشان و گمان برترست\n",
              "5      نبینی مرنجان دو بیننده را      به بینندگان آفریننده را\n",
              "6  که او برتر از نام و از جایگاه     نیابد بدو نیز اندیشه راه\n",
              "7        نیابد بدو راه جان و خرد   سخن هر چه زین گوهران بگذرد\n",
              "8      همان را گزیند که بیند همی       خرد گر سخن برگزیند همی\n",
              "9       میان بندگی را ببایدت بست  ستودن نداند کس او را چو هست"
            ],
            "text/html": [
              "\n",
              "  <div id=\"df-3368e7ed-2111-4a99-817d-089c43571f36\" class=\"colab-df-container\">\n",
              "    <div>\n",
              "<style scoped>\n",
              "    .dataframe tbody tr th:only-of-type {\n",
              "        vertical-align: middle;\n",
              "    }\n",
              "\n",
              "    .dataframe tbody tr th {\n",
              "        vertical-align: top;\n",
              "    }\n",
              "\n",
              "    .dataframe thead th {\n",
              "        text-align: right;\n",
              "    }\n",
              "</style>\n",
              "<table border=\"1\" class=\"dataframe\">\n",
              "  <thead>\n",
              "    <tr style=\"text-align: right;\">\n",
              "      <th></th>\n",
              "      <th>mesra2</th>\n",
              "      <th>mesra1</th>\n",
              "    </tr>\n",
              "  </thead>\n",
              "  <tbody>\n",
              "    <tr>\n",
              "      <th>0</th>\n",
              "      <td>number of beyts:\\t49609</td>\n",
              "      <td>ferdousi.txt</td>\n",
              "    </tr>\n",
              "    <tr>\n",
              "      <th>1</th>\n",
              "      <td>کزین برتر اندیشه برنگذرد</td>\n",
              "      <td>به نام خداوند جان و خرد</td>\n",
              "    </tr>\n",
              "    <tr>\n",
              "      <th>2</th>\n",
              "      <td>خداوند روزی ده رهنمای</td>\n",
              "      <td>خداوند نام و خداوند جای</td>\n",
              "    </tr>\n",
              "    <tr>\n",
              "      <th>3</th>\n",
              "      <td>فروزنده ماه و ناهید و مهر</td>\n",
              "      <td>خداوند کیوان و گردان سپهر</td>\n",
              "    </tr>\n",
              "    <tr>\n",
              "      <th>4</th>\n",
              "      <td>نگارندهٔ بر شده پیکرست</td>\n",
              "      <td>ز نام و نشان و گمان برترست</td>\n",
              "    </tr>\n",
              "    <tr>\n",
              "      <th>5</th>\n",
              "      <td>نبینی مرنجان دو بیننده را</td>\n",
              "      <td>به بینندگان آفریننده را</td>\n",
              "    </tr>\n",
              "    <tr>\n",
              "      <th>6</th>\n",
              "      <td>که او برتر از نام و از جایگاه</td>\n",
              "      <td>نیابد بدو نیز اندیشه راه</td>\n",
              "    </tr>\n",
              "    <tr>\n",
              "      <th>7</th>\n",
              "      <td>نیابد بدو راه جان و خرد</td>\n",
              "      <td>سخن هر چه زین گوهران بگذرد</td>\n",
              "    </tr>\n",
              "    <tr>\n",
              "      <th>8</th>\n",
              "      <td>همان را گزیند که بیند همی</td>\n",
              "      <td>خرد گر سخن برگزیند همی</td>\n",
              "    </tr>\n",
              "    <tr>\n",
              "      <th>9</th>\n",
              "      <td>میان بندگی را ببایدت بست</td>\n",
              "      <td>ستودن نداند کس او را چو هست</td>\n",
              "    </tr>\n",
              "  </tbody>\n",
              "</table>\n",
              "</div>\n",
              "    <div class=\"colab-df-buttons\">\n",
              "\n",
              "  <div class=\"colab-df-container\">\n",
              "    <button class=\"colab-df-convert\" onclick=\"convertToInteractive('df-3368e7ed-2111-4a99-817d-089c43571f36')\"\n",
              "            title=\"Convert this dataframe to an interactive table.\"\n",
              "            style=\"display:none;\">\n",
              "\n",
              "  <svg xmlns=\"http://www.w3.org/2000/svg\" height=\"24px\" viewBox=\"0 -960 960 960\">\n",
              "    <path d=\"M120-120v-720h720v720H120Zm60-500h600v-160H180v160Zm220 220h160v-160H400v160Zm0 220h160v-160H400v160ZM180-400h160v-160H180v160Zm440 0h160v-160H620v160ZM180-180h160v-160H180v160Zm440 0h160v-160H620v160Z\"/>\n",
              "  </svg>\n",
              "    </button>\n",
              "\n",
              "  <style>\n",
              "    .colab-df-container {\n",
              "      display:flex;\n",
              "      gap: 12px;\n",
              "    }\n",
              "\n",
              "    .colab-df-convert {\n",
              "      background-color: #E8F0FE;\n",
              "      border: none;\n",
              "      border-radius: 50%;\n",
              "      cursor: pointer;\n",
              "      display: none;\n",
              "      fill: #1967D2;\n",
              "      height: 32px;\n",
              "      padding: 0 0 0 0;\n",
              "      width: 32px;\n",
              "    }\n",
              "\n",
              "    .colab-df-convert:hover {\n",
              "      background-color: #E2EBFA;\n",
              "      box-shadow: 0px 1px 2px rgba(60, 64, 67, 0.3), 0px 1px 3px 1px rgba(60, 64, 67, 0.15);\n",
              "      fill: #174EA6;\n",
              "    }\n",
              "\n",
              "    .colab-df-buttons div {\n",
              "      margin-bottom: 4px;\n",
              "    }\n",
              "\n",
              "    [theme=dark] .colab-df-convert {\n",
              "      background-color: #3B4455;\n",
              "      fill: #D2E3FC;\n",
              "    }\n",
              "\n",
              "    [theme=dark] .colab-df-convert:hover {\n",
              "      background-color: #434B5C;\n",
              "      box-shadow: 0px 1px 3px 1px rgba(0, 0, 0, 0.15);\n",
              "      filter: drop-shadow(0px 1px 2px rgba(0, 0, 0, 0.3));\n",
              "      fill: #FFFFFF;\n",
              "    }\n",
              "  </style>\n",
              "\n",
              "    <script>\n",
              "      const buttonEl =\n",
              "        document.querySelector('#df-3368e7ed-2111-4a99-817d-089c43571f36 button.colab-df-convert');\n",
              "      buttonEl.style.display =\n",
              "        google.colab.kernel.accessAllowed ? 'block' : 'none';\n",
              "\n",
              "      async function convertToInteractive(key) {\n",
              "        const element = document.querySelector('#df-3368e7ed-2111-4a99-817d-089c43571f36');\n",
              "        const dataTable =\n",
              "          await google.colab.kernel.invokeFunction('convertToInteractive',\n",
              "                                                    [key], {});\n",
              "        if (!dataTable) return;\n",
              "\n",
              "        const docLinkHtml = 'Like what you see? Visit the ' +\n",
              "          '<a target=\"_blank\" href=https://colab.research.google.com/notebooks/data_table.ipynb>data table notebook</a>'\n",
              "          + ' to learn more about interactive tables.';\n",
              "        element.innerHTML = '';\n",
              "        dataTable['output_type'] = 'display_data';\n",
              "        await google.colab.output.renderOutput(dataTable, element);\n",
              "        const docLink = document.createElement('div');\n",
              "        docLink.innerHTML = docLinkHtml;\n",
              "        element.appendChild(docLink);\n",
              "      }\n",
              "    </script>\n",
              "  </div>\n",
              "\n",
              "\n",
              "<div id=\"df-cdf059c0-3b5b-43e5-8269-1c707ac6c8e5\">\n",
              "  <button class=\"colab-df-quickchart\" onclick=\"quickchart('df-cdf059c0-3b5b-43e5-8269-1c707ac6c8e5')\"\n",
              "            title=\"Suggest charts\"\n",
              "            style=\"display:none;\">\n",
              "\n",
              "<svg xmlns=\"http://www.w3.org/2000/svg\" height=\"24px\"viewBox=\"0 0 24 24\"\n",
              "     width=\"24px\">\n",
              "    <g>\n",
              "        <path d=\"M19 3H5c-1.1 0-2 .9-2 2v14c0 1.1.9 2 2 2h14c1.1 0 2-.9 2-2V5c0-1.1-.9-2-2-2zM9 17H7v-7h2v7zm4 0h-2V7h2v10zm4 0h-2v-4h2v4z\"/>\n",
              "    </g>\n",
              "</svg>\n",
              "  </button>\n",
              "\n",
              "<style>\n",
              "  .colab-df-quickchart {\n",
              "      --bg-color: #E8F0FE;\n",
              "      --fill-color: #1967D2;\n",
              "      --hover-bg-color: #E2EBFA;\n",
              "      --hover-fill-color: #174EA6;\n",
              "      --disabled-fill-color: #AAA;\n",
              "      --disabled-bg-color: #DDD;\n",
              "  }\n",
              "\n",
              "  [theme=dark] .colab-df-quickchart {\n",
              "      --bg-color: #3B4455;\n",
              "      --fill-color: #D2E3FC;\n",
              "      --hover-bg-color: #434B5C;\n",
              "      --hover-fill-color: #FFFFFF;\n",
              "      --disabled-bg-color: #3B4455;\n",
              "      --disabled-fill-color: #666;\n",
              "  }\n",
              "\n",
              "  .colab-df-quickchart {\n",
              "    background-color: var(--bg-color);\n",
              "    border: none;\n",
              "    border-radius: 50%;\n",
              "    cursor: pointer;\n",
              "    display: none;\n",
              "    fill: var(--fill-color);\n",
              "    height: 32px;\n",
              "    padding: 0;\n",
              "    width: 32px;\n",
              "  }\n",
              "\n",
              "  .colab-df-quickchart:hover {\n",
              "    background-color: var(--hover-bg-color);\n",
              "    box-shadow: 0 1px 2px rgba(60, 64, 67, 0.3), 0 1px 3px 1px rgba(60, 64, 67, 0.15);\n",
              "    fill: var(--button-hover-fill-color);\n",
              "  }\n",
              "\n",
              "  .colab-df-quickchart-complete:disabled,\n",
              "  .colab-df-quickchart-complete:disabled:hover {\n",
              "    background-color: var(--disabled-bg-color);\n",
              "    fill: var(--disabled-fill-color);\n",
              "    box-shadow: none;\n",
              "  }\n",
              "\n",
              "  .colab-df-spinner {\n",
              "    border: 2px solid var(--fill-color);\n",
              "    border-color: transparent;\n",
              "    border-bottom-color: var(--fill-color);\n",
              "    animation:\n",
              "      spin 1s steps(1) infinite;\n",
              "  }\n",
              "\n",
              "  @keyframes spin {\n",
              "    0% {\n",
              "      border-color: transparent;\n",
              "      border-bottom-color: var(--fill-color);\n",
              "      border-left-color: var(--fill-color);\n",
              "    }\n",
              "    20% {\n",
              "      border-color: transparent;\n",
              "      border-left-color: var(--fill-color);\n",
              "      border-top-color: var(--fill-color);\n",
              "    }\n",
              "    30% {\n",
              "      border-color: transparent;\n",
              "      border-left-color: var(--fill-color);\n",
              "      border-top-color: var(--fill-color);\n",
              "      border-right-color: var(--fill-color);\n",
              "    }\n",
              "    40% {\n",
              "      border-color: transparent;\n",
              "      border-right-color: var(--fill-color);\n",
              "      border-top-color: var(--fill-color);\n",
              "    }\n",
              "    60% {\n",
              "      border-color: transparent;\n",
              "      border-right-color: var(--fill-color);\n",
              "    }\n",
              "    80% {\n",
              "      border-color: transparent;\n",
              "      border-right-color: var(--fill-color);\n",
              "      border-bottom-color: var(--fill-color);\n",
              "    }\n",
              "    90% {\n",
              "      border-color: transparent;\n",
              "      border-bottom-color: var(--fill-color);\n",
              "    }\n",
              "  }\n",
              "</style>\n",
              "\n",
              "  <script>\n",
              "    async function quickchart(key) {\n",
              "      const quickchartButtonEl =\n",
              "        document.querySelector('#' + key + ' button');\n",
              "      quickchartButtonEl.disabled = true;  // To prevent multiple clicks.\n",
              "      quickchartButtonEl.classList.add('colab-df-spinner');\n",
              "      try {\n",
              "        const charts = await google.colab.kernel.invokeFunction(\n",
              "            'suggestCharts', [key], {});\n",
              "      } catch (error) {\n",
              "        console.error('Error during call to suggestCharts:', error);\n",
              "      }\n",
              "      quickchartButtonEl.classList.remove('colab-df-spinner');\n",
              "      quickchartButtonEl.classList.add('colab-df-quickchart-complete');\n",
              "    }\n",
              "    (() => {\n",
              "      let quickchartButtonEl =\n",
              "        document.querySelector('#df-cdf059c0-3b5b-43e5-8269-1c707ac6c8e5 button');\n",
              "      quickchartButtonEl.style.display =\n",
              "        google.colab.kernel.accessAllowed ? 'block' : 'none';\n",
              "    })();\n",
              "  </script>\n",
              "</div>\n",
              "    </div>\n",
              "  </div>\n"
            ]
          },
          "metadata": {},
          "execution_count": 14
        }
      ]
    },
    {
      "cell_type": "markdown",
      "source": [
        "**Processing the dataframe**"
      ],
      "metadata": {
        "id": "vZegiHtUWAdt"
      }
    },
    {
      "cell_type": "code",
      "source": [
        "data.drop(0 , inplace=True ) # row 0 does not have any persian poem, it just has some information"
      ],
      "metadata": {
        "execution": {
          "iopub.status.busy": "2024-01-19T19:43:54.161961Z",
          "iopub.execute_input": "2024-01-19T19:43:54.162322Z",
          "iopub.status.idle": "2024-01-19T19:43:54.172460Z",
          "shell.execute_reply.started": "2024-01-19T19:43:54.162294Z",
          "shell.execute_reply": "2024-01-19T19:43:54.171080Z"
        },
        "trusted": true,
        "id": "xTJIagk6WAdt"
      },
      "execution_count": 15,
      "outputs": []
    },
    {
      "cell_type": "code",
      "source": [
        "# Add a new column for verse numbers\n",
        "data['verses_number'] = range(0, len(data))\n",
        "# Reorder the columns\n",
        "data = data[['verses_number', 'mesra2', 'mesra1']]\n",
        "data.head(5)\n",
        "#we need this, because when we shuffle our dataframe ,  it shows us whether everything is correct or not!!"
      ],
      "metadata": {
        "execution": {
          "iopub.status.busy": "2024-01-19T19:43:54.174033Z",
          "iopub.execute_input": "2024-01-19T19:43:54.174496Z",
          "iopub.status.idle": "2024-01-19T19:43:54.190724Z",
          "shell.execute_reply.started": "2024-01-19T19:43:54.174457Z",
          "shell.execute_reply": "2024-01-19T19:43:54.189671Z"
        },
        "trusted": true,
        "colab": {
          "base_uri": "https://localhost:8080/",
          "height": 206
        },
        "id": "MxS4A3ZZWAdu",
        "outputId": "696f2162-b810-4b8d-818f-f8301a4f1c40"
      },
      "execution_count": 16,
      "outputs": [
        {
          "output_type": "execute_result",
          "data": {
            "text/plain": [
              "   verses_number                     mesra2                      mesra1\n",
              "1              0   کزین برتر اندیشه برنگذرد     به نام خداوند جان و خرد\n",
              "2              1      خداوند روزی ده رهنمای     خداوند نام و خداوند جای\n",
              "3              2  فروزنده ماه و ناهید و مهر   خداوند کیوان و گردان سپهر\n",
              "4              3     نگارندهٔ بر شده پیکرست  ز نام و نشان و گمان برترست\n",
              "5              4  نبینی مرنجان دو بیننده را     به بینندگان آفریننده را"
            ],
            "text/html": [
              "\n",
              "  <div id=\"df-8929b4a6-2ce3-451e-8a48-d207ebd90052\" class=\"colab-df-container\">\n",
              "    <div>\n",
              "<style scoped>\n",
              "    .dataframe tbody tr th:only-of-type {\n",
              "        vertical-align: middle;\n",
              "    }\n",
              "\n",
              "    .dataframe tbody tr th {\n",
              "        vertical-align: top;\n",
              "    }\n",
              "\n",
              "    .dataframe thead th {\n",
              "        text-align: right;\n",
              "    }\n",
              "</style>\n",
              "<table border=\"1\" class=\"dataframe\">\n",
              "  <thead>\n",
              "    <tr style=\"text-align: right;\">\n",
              "      <th></th>\n",
              "      <th>verses_number</th>\n",
              "      <th>mesra2</th>\n",
              "      <th>mesra1</th>\n",
              "    </tr>\n",
              "  </thead>\n",
              "  <tbody>\n",
              "    <tr>\n",
              "      <th>1</th>\n",
              "      <td>0</td>\n",
              "      <td>کزین برتر اندیشه برنگذرد</td>\n",
              "      <td>به نام خداوند جان و خرد</td>\n",
              "    </tr>\n",
              "    <tr>\n",
              "      <th>2</th>\n",
              "      <td>1</td>\n",
              "      <td>خداوند روزی ده رهنمای</td>\n",
              "      <td>خداوند نام و خداوند جای</td>\n",
              "    </tr>\n",
              "    <tr>\n",
              "      <th>3</th>\n",
              "      <td>2</td>\n",
              "      <td>فروزنده ماه و ناهید و مهر</td>\n",
              "      <td>خداوند کیوان و گردان سپهر</td>\n",
              "    </tr>\n",
              "    <tr>\n",
              "      <th>4</th>\n",
              "      <td>3</td>\n",
              "      <td>نگارندهٔ بر شده پیکرست</td>\n",
              "      <td>ز نام و نشان و گمان برترست</td>\n",
              "    </tr>\n",
              "    <tr>\n",
              "      <th>5</th>\n",
              "      <td>4</td>\n",
              "      <td>نبینی مرنجان دو بیننده را</td>\n",
              "      <td>به بینندگان آفریننده را</td>\n",
              "    </tr>\n",
              "  </tbody>\n",
              "</table>\n",
              "</div>\n",
              "    <div class=\"colab-df-buttons\">\n",
              "\n",
              "  <div class=\"colab-df-container\">\n",
              "    <button class=\"colab-df-convert\" onclick=\"convertToInteractive('df-8929b4a6-2ce3-451e-8a48-d207ebd90052')\"\n",
              "            title=\"Convert this dataframe to an interactive table.\"\n",
              "            style=\"display:none;\">\n",
              "\n",
              "  <svg xmlns=\"http://www.w3.org/2000/svg\" height=\"24px\" viewBox=\"0 -960 960 960\">\n",
              "    <path d=\"M120-120v-720h720v720H120Zm60-500h600v-160H180v160Zm220 220h160v-160H400v160Zm0 220h160v-160H400v160ZM180-400h160v-160H180v160Zm440 0h160v-160H620v160ZM180-180h160v-160H180v160Zm440 0h160v-160H620v160Z\"/>\n",
              "  </svg>\n",
              "    </button>\n",
              "\n",
              "  <style>\n",
              "    .colab-df-container {\n",
              "      display:flex;\n",
              "      gap: 12px;\n",
              "    }\n",
              "\n",
              "    .colab-df-convert {\n",
              "      background-color: #E8F0FE;\n",
              "      border: none;\n",
              "      border-radius: 50%;\n",
              "      cursor: pointer;\n",
              "      display: none;\n",
              "      fill: #1967D2;\n",
              "      height: 32px;\n",
              "      padding: 0 0 0 0;\n",
              "      width: 32px;\n",
              "    }\n",
              "\n",
              "    .colab-df-convert:hover {\n",
              "      background-color: #E2EBFA;\n",
              "      box-shadow: 0px 1px 2px rgba(60, 64, 67, 0.3), 0px 1px 3px 1px rgba(60, 64, 67, 0.15);\n",
              "      fill: #174EA6;\n",
              "    }\n",
              "\n",
              "    .colab-df-buttons div {\n",
              "      margin-bottom: 4px;\n",
              "    }\n",
              "\n",
              "    [theme=dark] .colab-df-convert {\n",
              "      background-color: #3B4455;\n",
              "      fill: #D2E3FC;\n",
              "    }\n",
              "\n",
              "    [theme=dark] .colab-df-convert:hover {\n",
              "      background-color: #434B5C;\n",
              "      box-shadow: 0px 1px 3px 1px rgba(0, 0, 0, 0.15);\n",
              "      filter: drop-shadow(0px 1px 2px rgba(0, 0, 0, 0.3));\n",
              "      fill: #FFFFFF;\n",
              "    }\n",
              "  </style>\n",
              "\n",
              "    <script>\n",
              "      const buttonEl =\n",
              "        document.querySelector('#df-8929b4a6-2ce3-451e-8a48-d207ebd90052 button.colab-df-convert');\n",
              "      buttonEl.style.display =\n",
              "        google.colab.kernel.accessAllowed ? 'block' : 'none';\n",
              "\n",
              "      async function convertToInteractive(key) {\n",
              "        const element = document.querySelector('#df-8929b4a6-2ce3-451e-8a48-d207ebd90052');\n",
              "        const dataTable =\n",
              "          await google.colab.kernel.invokeFunction('convertToInteractive',\n",
              "                                                    [key], {});\n",
              "        if (!dataTable) return;\n",
              "\n",
              "        const docLinkHtml = 'Like what you see? Visit the ' +\n",
              "          '<a target=\"_blank\" href=https://colab.research.google.com/notebooks/data_table.ipynb>data table notebook</a>'\n",
              "          + ' to learn more about interactive tables.';\n",
              "        element.innerHTML = '';\n",
              "        dataTable['output_type'] = 'display_data';\n",
              "        await google.colab.output.renderOutput(dataTable, element);\n",
              "        const docLink = document.createElement('div');\n",
              "        docLink.innerHTML = docLinkHtml;\n",
              "        element.appendChild(docLink);\n",
              "      }\n",
              "    </script>\n",
              "  </div>\n",
              "\n",
              "\n",
              "<div id=\"df-c2ec8409-162f-4c38-a5fc-b8def1f1d5fe\">\n",
              "  <button class=\"colab-df-quickchart\" onclick=\"quickchart('df-c2ec8409-162f-4c38-a5fc-b8def1f1d5fe')\"\n",
              "            title=\"Suggest charts\"\n",
              "            style=\"display:none;\">\n",
              "\n",
              "<svg xmlns=\"http://www.w3.org/2000/svg\" height=\"24px\"viewBox=\"0 0 24 24\"\n",
              "     width=\"24px\">\n",
              "    <g>\n",
              "        <path d=\"M19 3H5c-1.1 0-2 .9-2 2v14c0 1.1.9 2 2 2h14c1.1 0 2-.9 2-2V5c0-1.1-.9-2-2-2zM9 17H7v-7h2v7zm4 0h-2V7h2v10zm4 0h-2v-4h2v4z\"/>\n",
              "    </g>\n",
              "</svg>\n",
              "  </button>\n",
              "\n",
              "<style>\n",
              "  .colab-df-quickchart {\n",
              "      --bg-color: #E8F0FE;\n",
              "      --fill-color: #1967D2;\n",
              "      --hover-bg-color: #E2EBFA;\n",
              "      --hover-fill-color: #174EA6;\n",
              "      --disabled-fill-color: #AAA;\n",
              "      --disabled-bg-color: #DDD;\n",
              "  }\n",
              "\n",
              "  [theme=dark] .colab-df-quickchart {\n",
              "      --bg-color: #3B4455;\n",
              "      --fill-color: #D2E3FC;\n",
              "      --hover-bg-color: #434B5C;\n",
              "      --hover-fill-color: #FFFFFF;\n",
              "      --disabled-bg-color: #3B4455;\n",
              "      --disabled-fill-color: #666;\n",
              "  }\n",
              "\n",
              "  .colab-df-quickchart {\n",
              "    background-color: var(--bg-color);\n",
              "    border: none;\n",
              "    border-radius: 50%;\n",
              "    cursor: pointer;\n",
              "    display: none;\n",
              "    fill: var(--fill-color);\n",
              "    height: 32px;\n",
              "    padding: 0;\n",
              "    width: 32px;\n",
              "  }\n",
              "\n",
              "  .colab-df-quickchart:hover {\n",
              "    background-color: var(--hover-bg-color);\n",
              "    box-shadow: 0 1px 2px rgba(60, 64, 67, 0.3), 0 1px 3px 1px rgba(60, 64, 67, 0.15);\n",
              "    fill: var(--button-hover-fill-color);\n",
              "  }\n",
              "\n",
              "  .colab-df-quickchart-complete:disabled,\n",
              "  .colab-df-quickchart-complete:disabled:hover {\n",
              "    background-color: var(--disabled-bg-color);\n",
              "    fill: var(--disabled-fill-color);\n",
              "    box-shadow: none;\n",
              "  }\n",
              "\n",
              "  .colab-df-spinner {\n",
              "    border: 2px solid var(--fill-color);\n",
              "    border-color: transparent;\n",
              "    border-bottom-color: var(--fill-color);\n",
              "    animation:\n",
              "      spin 1s steps(1) infinite;\n",
              "  }\n",
              "\n",
              "  @keyframes spin {\n",
              "    0% {\n",
              "      border-color: transparent;\n",
              "      border-bottom-color: var(--fill-color);\n",
              "      border-left-color: var(--fill-color);\n",
              "    }\n",
              "    20% {\n",
              "      border-color: transparent;\n",
              "      border-left-color: var(--fill-color);\n",
              "      border-top-color: var(--fill-color);\n",
              "    }\n",
              "    30% {\n",
              "      border-color: transparent;\n",
              "      border-left-color: var(--fill-color);\n",
              "      border-top-color: var(--fill-color);\n",
              "      border-right-color: var(--fill-color);\n",
              "    }\n",
              "    40% {\n",
              "      border-color: transparent;\n",
              "      border-right-color: var(--fill-color);\n",
              "      border-top-color: var(--fill-color);\n",
              "    }\n",
              "    60% {\n",
              "      border-color: transparent;\n",
              "      border-right-color: var(--fill-color);\n",
              "    }\n",
              "    80% {\n",
              "      border-color: transparent;\n",
              "      border-right-color: var(--fill-color);\n",
              "      border-bottom-color: var(--fill-color);\n",
              "    }\n",
              "    90% {\n",
              "      border-color: transparent;\n",
              "      border-bottom-color: var(--fill-color);\n",
              "    }\n",
              "  }\n",
              "</style>\n",
              "\n",
              "  <script>\n",
              "    async function quickchart(key) {\n",
              "      const quickchartButtonEl =\n",
              "        document.querySelector('#' + key + ' button');\n",
              "      quickchartButtonEl.disabled = true;  // To prevent multiple clicks.\n",
              "      quickchartButtonEl.classList.add('colab-df-spinner');\n",
              "      try {\n",
              "        const charts = await google.colab.kernel.invokeFunction(\n",
              "            'suggestCharts', [key], {});\n",
              "      } catch (error) {\n",
              "        console.error('Error during call to suggestCharts:', error);\n",
              "      }\n",
              "      quickchartButtonEl.classList.remove('colab-df-spinner');\n",
              "      quickchartButtonEl.classList.add('colab-df-quickchart-complete');\n",
              "    }\n",
              "    (() => {\n",
              "      let quickchartButtonEl =\n",
              "        document.querySelector('#df-c2ec8409-162f-4c38-a5fc-b8def1f1d5fe button');\n",
              "      quickchartButtonEl.style.display =\n",
              "        google.colab.kernel.accessAllowed ? 'block' : 'none';\n",
              "    })();\n",
              "  </script>\n",
              "</div>\n",
              "    </div>\n",
              "  </div>\n"
            ]
          },
          "metadata": {},
          "execution_count": 16
        }
      ]
    },
    {
      "cell_type": "code",
      "source": [
        "num_rows = data.shape[0]\n",
        "print(f'The DataFrame has {num_rows} rows.')"
      ],
      "metadata": {
        "execution": {
          "iopub.status.busy": "2024-01-19T19:43:54.192057Z",
          "iopub.execute_input": "2024-01-19T19:43:54.192388Z",
          "iopub.status.idle": "2024-01-19T19:43:54.198287Z",
          "shell.execute_reply.started": "2024-01-19T19:43:54.192360Z",
          "shell.execute_reply": "2024-01-19T19:43:54.197164Z"
        },
        "trusted": true,
        "colab": {
          "base_uri": "https://localhost:8080/"
        },
        "id": "dPgQjKaSWAdv",
        "outputId": "224c56cc-2d49-4cad-b45b-c93518019017"
      },
      "execution_count": 17,
      "outputs": [
        {
          "output_type": "stream",
          "name": "stdout",
          "text": [
            "The DataFrame has 49609 rows.\n"
          ]
        }
      ]
    },
    {
      "cell_type": "code",
      "source": [
        "# Replace empty cells with a specific value\n",
        "data = data.fillna(\"این قسمت فاقد محتوا می باشد:)\")  # If there is any !! #(especially in the last line)"
      ],
      "metadata": {
        "execution": {
          "iopub.status.busy": "2024-01-19T19:43:54.199849Z",
          "iopub.execute_input": "2024-01-19T19:43:54.200156Z",
          "iopub.status.idle": "2024-01-19T19:43:54.224021Z",
          "shell.execute_reply.started": "2024-01-19T19:43:54.200131Z",
          "shell.execute_reply": "2024-01-19T19:43:54.223045Z"
        },
        "trusted": true,
        "id": "5k5mLgppWAdw"
      },
      "execution_count": 18,
      "outputs": []
    },
    {
      "cell_type": "code",
      "source": [
        "# Shuffle the DataFrame\n",
        "shuffled_df = data.sample(frac=1, random_state=42) # it helps us to have unbiased dataframe\n",
        "\n",
        "# Reset the index\n",
        "shuffled_df.reset_index(drop=True, inplace=True)\n",
        "\n",
        "# Calculate the size of the training set\n",
        "train_size = int(0.8 * len(shuffled_df))\n",
        "\n",
        "# Split the DataFrame\n",
        "train_df = shuffled_df[:train_size]\n",
        "test_df = shuffled_df[train_size:]\n",
        "\n",
        "# Now I have train_df and test_df\n",
        "\n",
        "print(f'The train DataFrame has {train_df.shape[0]} rows.')\n",
        "print(f'The test DataFrame has {test_df.shape[0]} rows.')"
      ],
      "metadata": {
        "execution": {
          "iopub.status.busy": "2024-01-19T19:43:54.227045Z",
          "iopub.execute_input": "2024-01-19T19:43:54.227459Z",
          "iopub.status.idle": "2024-01-19T19:43:54.247509Z",
          "shell.execute_reply.started": "2024-01-19T19:43:54.227426Z",
          "shell.execute_reply": "2024-01-19T19:43:54.246368Z"
        },
        "trusted": true,
        "colab": {
          "base_uri": "https://localhost:8080/"
        },
        "id": "0deJOYJ8WAdx",
        "outputId": "6165f65c-0b41-4e6e-de3d-e44648eec162"
      },
      "execution_count": 19,
      "outputs": [
        {
          "output_type": "stream",
          "name": "stdout",
          "text": [
            "The train DataFrame has 39687 rows.\n",
            "The test DataFrame has 9922 rows.\n"
          ]
        }
      ]
    },
    {
      "cell_type": "markdown",
      "source": [
        "---\n",
        "\n",
        "# **Part (B)**\n",
        "\n",
        "---"
      ],
      "metadata": {
        "id": "lLFzP7drWAdz"
      }
    },
    {
      "cell_type": "markdown",
      "source": [
        "**Tokenization and Dataset Preparation for Seq2Seq Model**"
      ],
      "metadata": {
        "id": "HGsViNS9yIbx"
      }
    },
    {
      "cell_type": "markdown",
      "source": [
        "in this partt, we are preparing data for training a seq-to-seq model using the GPT-2-based tokenizer. The goal is to concatenate two lines of Persian poetry (mesra1 and mesra2) and tokenize the resulting sequences for training and evaluation."
      ],
      "metadata": {
        "id": "FGz9o095yP1_"
      }
    },
    {
      "cell_type": "code",
      "source": [
        "tokenizer = GPT2Tokenizer.from_pretrained('HooshvareLab/gpt2-fa') # initialize a GPT-2 tokenizer specifically designed for Persian language ('gpt2-fa').\n",
        "\n",
        "# Set the padding token\n",
        "tokenizer.pad_token = \"هیچ\" #We set the padding token for the tokenizer. In this case, \"هیچ\" (meaning 'none' in Persian) is used as the padding token.\n",
        "\n",
        "# Concatenate mesra1 and mesra2 for both train and test data using .loc\n",
        "train_df = train_df.copy()\n",
        "test_df  = test_df.copy()\n",
        "train_df.loc[:, 'concatenated'] = train_df['mesra1'] + '،' + train_df['mesra2']\n",
        "test_df.loc[:, 'concatenated']  = test_df['mesra1']  + '،' + test_df['mesra2']\n",
        "#We concatenate 'mesra1' and 'mesra2' for both training and test datasets, separated by the Persian comma ('،').\n",
        "\n",
        "# Tokenize the concatenated data\n",
        "train_encodings = tokenizer(train_df['concatenated'].apply(lambda x: ' ' + x).tolist(), truncation=True, padding=True)\n",
        "test_encodings  = tokenizer(test_df['concatenated'].apply(lambda x: ' ' + x).tolist() , truncation=True, padding=True)\n",
        "#We tokenize the concatenated sequences, adding a space before each sequence, and apply padding to ensure uniform length.\n",
        "\n",
        "# Create the labels (shifted concatenated sequences by one position)\n",
        "train_labels = tokenizer(train_df['concatenated'].apply(lambda x: x[1:]).tolist(), truncation=True, padding=True) #shifted!!! (the label for each x should be the next one.)\n",
        "test_labels  = tokenizer(test_df['concatenated'].apply(lambda x: x[1:]).tolist() , truncation=True, padding=True) #shifted!!!!\n",
        "#  We create labels by shifting the concatenated sequences by one position, and then tokenize them.\n",
        "\n",
        "#-------------------------------------------------------\n",
        "#ddefine a custom PyTorch dataset class (Seq2SeqDataset) to encapsulate the tokenized encodings and labels.\n",
        "class Seq2SeqDataset(Dataset):\n",
        "    def __init__(self, encodings, labels):\n",
        "        self.encodings = encodings\n",
        "        self.labels = labels\n",
        "\n",
        "    def __getitem__(self, idx):\n",
        "        item = {key: torch.tensor(val[idx]) for key, val in self.encodings.items()}\n",
        "        item['labels'] = torch.tensor(self.labels['input_ids'][idx])\n",
        "        return item\n",
        "\n",
        "    def __len__(self):\n",
        "        return len(self.encodings.input_ids)\n",
        "#-------------------------------------------------------\n",
        "\n",
        "# Create the data loaders\n",
        "train_dataset = Seq2SeqDataset(train_encodings, train_labels)\n",
        "test_dataset  = Seq2SeqDataset(test_encodings , test_labels )\n",
        "\n",
        "train_loader = DataLoader(train_dataset, batch_size=16, shuffle=True )\n",
        "test_loader  =  DataLoader(test_dataset, batch_size=16, shuffle=False)\n"
      ],
      "metadata": {
        "execution": {
          "iopub.status.busy": "2024-01-19T19:43:54.248841Z",
          "iopub.execute_input": "2024-01-19T19:43:54.249279Z",
          "iopub.status.idle": "2024-01-19T19:44:10.738441Z",
          "shell.execute_reply.started": "2024-01-19T19:43:54.249240Z",
          "shell.execute_reply": "2024-01-19T19:44:10.737626Z"
        },
        "trusted": true,
        "id": "MbEGJ6W5WAdz"
      },
      "execution_count": 106,
      "outputs": []
    },
    {
      "cell_type": "markdown",
      "source": [
        " the code segment that you see above demonstrates the necessary steps to tokenize and prepare data for training a Seq2Seq model on concatenated Persian poetry lines using the GPT-2 tokenizer."
      ],
      "metadata": {
        "id": "JCLZkUeEzan3"
      }
    },
    {
      "cell_type": "markdown",
      "source": [
        "---\n",
        "\n",
        "# **Part (C)**\n",
        "\n",
        "---\n"
      ],
      "metadata": {
        "id": "vBEETK2SWAd1"
      }
    },
    {
      "cell_type": "markdown",
      "source": [
        "what I've done in this part of my code :\n",
        "\n",
        "1. **Load Pre-trained Model:**\n",
        "   - Used 'HooshvareLab/gpt2-fa' for Persian language.\n",
        "\n",
        "2. **Move to GPU:**\n",
        "   - Shifted the model to GPU if available.\n",
        "\n",
        "3. **Optimizer & Loss:**\n",
        "   - Utilized AdamW optimizer and CrossEntropyLoss.\n",
        "\n",
        "4. **Training Loop:**\n",
        "   - Trained for 20 epochs on the poetry dataset.\n",
        "\n",
        "5. **Results:**\n",
        "   - Loss decreased, indicating model improvement.\n",
        "   - Aiming for better generation of Persian poetry.\n"
      ],
      "metadata": {
        "id": "ZfL-bCfr1aF5"
      }
    },
    {
      "cell_type": "code",
      "source": [
        "# Load the pre-trained model\n",
        "model = GPT2LMHeadModel.from_pretrained('HooshvareLab/gpt2-fa')\n",
        "\n",
        "# Move the model to GPU if available\n",
        "device = torch.device('cuda' if torch.cuda.is_available() else 'cpu')\n",
        "model  = model.to(device)\n",
        "\n",
        "# Set up the optimizer and the loss function\n",
        "optimizer = torch.optim.AdamW(model.parameters(), lr=1e-4)\n",
        "criterion = nn.CrossEntropyLoss()\n",
        "\n",
        "# Training loop\n",
        "def train(model, dataloader, optimizer, criterion, device):\n",
        "    model.train()\n",
        "    total_loss = 0\n",
        "    for batch in dataloader:\n",
        "        optimizer.zero_grad()\n",
        "        input_ids = batch['input_ids'].to(device)\n",
        "        attention_mask = batch['attention_mask'].to(device)\n",
        "        labels = batch['labels'].to(device)\n",
        "        outputs = model(input_ids, attention_mask=attention_mask, labels=labels)\n",
        "        loss = outputs.loss\n",
        "        loss.backward()\n",
        "        optimizer.step()\n",
        "        total_loss += loss.item()\n",
        "    return total_loss / len(dataloader)\n",
        "\n",
        "\n",
        "# Train the model\n",
        "num_epochs = 20\n",
        "for epoch in range(num_epochs):\n",
        "    loss = train(model, train_loader, optimizer, criterion, device)\n",
        "    print(f'Epoch {epoch+1}/{num_epochs}: Loss = {loss}')\n"
      ],
      "metadata": {
        "execution": {
          "iopub.status.busy": "2024-01-19T19:44:10.739669Z",
          "iopub.execute_input": "2024-01-19T19:44:10.740347Z",
          "iopub.status.idle": "2024-01-19T19:50:03.091766Z",
          "shell.execute_reply.started": "2024-01-19T19:44:10.740303Z",
          "shell.execute_reply": "2024-01-19T19:50:03.090778Z"
        },
        "trusted": true,
        "colab": {
          "base_uri": "https://localhost:8080/",
          "height": 396,
          "referenced_widgets": [
            "74d10b31b3b648ef839412b5b0cf53ea",
            "01fdf39772ef44ca9b18d6ec35866988",
            "e36fa20429c9451b8d6cb0c15687ba85",
            "bb27533c5c4e428fa0a3ac661fbc870b",
            "991555ae97a94ee58af72b8c69e37ade",
            "73c5bc14bb274aa4b4abea8ebc50dc11",
            "2552432d25394944838481c83d8cce6b",
            "b8573069fd0b425ebb347d16347e4740",
            "29bb5bb6a58f488e84cd56aa1833ea63",
            "ecb9dd7b3c3e430098368b09dab244b5",
            "75dbb056027d4da8ab3af8479e6345ef"
          ]
        },
        "id": "jDDAJz8pWAd1",
        "outputId": "0e73794b-97f5-4821-bb7c-5c38063e1e50"
      },
      "execution_count": 21,
      "outputs": [
        {
          "output_type": "display_data",
          "data": {
            "text/plain": [
              "pytorch_model.bin:   0%|          | 0.00/485M [00:00<?, ?B/s]"
            ],
            "application/vnd.jupyter.widget-view+json": {
              "version_major": 2,
              "version_minor": 0,
              "model_id": "74d10b31b3b648ef839412b5b0cf53ea"
            }
          },
          "metadata": {}
        },
        {
          "output_type": "stream",
          "name": "stdout",
          "text": [
            "Epoch 1/20: Loss = 3.12295079370604\n",
            "Epoch 2/20: Loss = 2.4618343951864525\n",
            "Epoch 3/20: Loss = 2.131697087410908\n",
            "Epoch 4/20: Loss = 1.857341863344101\n",
            "Epoch 5/20: Loss = 1.608992741310707\n",
            "Epoch 6/20: Loss = 1.3777685616344082\n",
            "Epoch 7/20: Loss = 1.1727102534850726\n",
            "Epoch 8/20: Loss = 0.9949515821567614\n",
            "Epoch 9/20: Loss = 0.8469533993562639\n",
            "Epoch 10/20: Loss = 0.731245081626999\n",
            "Epoch 11/20: Loss = 0.6487587131064345\n",
            "Epoch 12/20: Loss = 0.587440934129801\n",
            "Epoch 13/20: Loss = 0.5494004616041618\n",
            "Epoch 14/20: Loss = 0.522333134282553\n",
            "Epoch 15/20: Loss = 0.5041049857117484\n",
            "Epoch 16/20: Loss = 0.4846757662267466\n",
            "Epoch 17/20: Loss = 0.4753985822633215\n",
            "Epoch 18/20: Loss = 0.4620984543816114\n",
            "Epoch 19/20: Loss = 0.4536150928251881\n",
            "Epoch 20/20: Loss = 0.4453157692823329\n"
          ]
        }
      ]
    },
    {
      "cell_type": "markdown",
      "source": [
        "**explanation:**\n",
        "\n",
        "*   The training loss decreases consistently over epochs.\n",
        "\n",
        "*   A decreasing loss indicates that the model is improving its ability to predict the target sequences in the training data.\n",
        "\n",
        "*   Lower loss values generally correspond to better model performance.\n",
        "\n",
        "\n",
        "This code shows that the model is fine-tunining effectively from the training data, capturing complex patterns and relationships within the concatenated persian poetry lines. As the training progresses, the model refines its parameters, leading to a reduction in the training loss.\n",
        "\n",
        "It's essential to monitor the loss progression to assess the model's convergence and overall training performance. Lower and stabilized loss values are indicative of a well-trained model."
      ],
      "metadata": {
        "id": "lXeWNr0_0i8O"
      }
    },
    {
      "cell_type": "markdown",
      "source": [
        "---\n",
        "\n",
        "# **Part (D)**\n",
        "\n",
        "---"
      ],
      "metadata": {
        "id": "cVk87j7EWAd2"
      }
    },
    {
      "cell_type": "markdown",
      "source": [
        "**Random Generation with some Arbitrary Sentences**"
      ],
      "metadata": {
        "id": "RYlhqi8IWAd3"
      }
    },
    {
      "cell_type": "markdown",
      "source": [
        "( you can repeat this cell as many times as you want and it generates new poems each time :) some of them are really fun)"
      ],
      "metadata": {
        "id": "bWA01YSeMfOQ"
      }
    },
    {
      "cell_type": "code",
      "source": [
        "# Create a text generation pipeline\n",
        "generator = pipeline('text-generation', model=model, tokenizer=tokenizer, device=0)\n",
        "\n",
        "def generate_and_print_results(input_sentence, generator, max_length=100, temperature=0.7):\n",
        "    print(\"\\nInput Sentence:\", input_sentence)\n",
        "\n",
        "    # Generate paired sentences given an input sentence\n",
        "    generated_text = generator(input_sentence, max_length=max_length, do_sample=True, temperature=temperature, pad_token_id=generator.tokenizer.eos_token_id)\n",
        "    generated_text = generated_text[0]['generated_text'].split(' ، ')\n",
        "\n",
        "    print(\"\\nGenerated Sentences:\")\n",
        "    for text in generated_text:\n",
        "        lines = text.split('،')\n",
        "        if len(lines) == 1:\n",
        "            print(lines[0])\n",
        "        else:\n",
        "            print(lines[0])\n",
        "            print(lines[1])\n",
        "\n",
        "    print(\"===============================\")\n",
        "\n",
        "\n",
        "# Examples\n",
        "print('\\nExample #1:')\n",
        "generate_and_print_results(\"تو نیکی میکن و در دجله\", generator, temperature=0.8)\n",
        "print('\\nExample #2:')\n",
        "generate_and_print_results(\"ای ایران\"               , generator, temperature=0.8)\n",
        "\n"
      ],
      "metadata": {
        "execution": {
          "iopub.status.busy": "2024-01-19T19:55:12.911712Z",
          "iopub.execute_input": "2024-01-19T19:55:12.912116Z",
          "iopub.status.idle": "2024-01-19T19:55:13.638655Z",
          "shell.execute_reply.started": "2024-01-19T19:55:12.912085Z",
          "shell.execute_reply": "2024-01-19T19:55:13.637654Z"
        },
        "trusted": true,
        "colab": {
          "base_uri": "https://localhost:8080/"
        },
        "id": "FXRh5nQfWAd3",
        "outputId": "f2a46120-391e-46af-a8f7-2573fdd58b38"
      },
      "execution_count": 105,
      "outputs": [
        {
          "output_type": "stream",
          "name": "stdout",
          "text": [
            "\n",
            "Example #1:\n",
            "\n",
            "Input Sentence: تو نیکی میکن و در دجله\n",
            "\n",
            "Generated Sentences:\n",
            "تو نیکی میکن و در دجله شوی\n",
            "چنان چون بباید گزندی بدوی\n",
            "===============================\n",
            "\n",
            "Example #2:\n",
            "\n",
            "Input Sentence: ای ایران\n",
            "\n",
            "Generated Sentences:\n",
            "ای ایران ز هر سو بجنگ آمدی\n",
            "ز هامون بگذاشتی و بجنگ آمدی\n",
            "===============================\n"
          ]
        }
      ]
    },
    {
      "cell_type": "markdown",
      "source": [
        "---\n",
        "\n",
        "The generated sentences are displayed for each example, providing insights into the model's creative text generation capabilities.\n",
        "\n",
        "---"
      ],
      "metadata": {
        "id": "MvwbLYHI9RCR"
      }
    },
    {
      "cell_type": "markdown",
      "source": [
        "**Generation On some samples from Test Data using first Part of the verses and Compare it with the Target verses**"
      ],
      "metadata": {
        "id": "8TroN-QSWAd4"
      }
    },
    {
      "cell_type": "code",
      "source": [
        "def generate_and_print_results(input_sentence, target_sentence, model, tokenizer, device):\n",
        "\n",
        "    # Tokenize the input sentence\n",
        "    input_ids = tokenizer(input_sentence, return_tensors=\"pt\", max_length=50, truncation=True, padding=True)['input_ids'].to(device)\n",
        "\n",
        "    # Generate a complete sequence given an input sentence\n",
        "    generated_ids = model.generate(input_ids, max_length=100, num_beams=5, temperature=0.7, pad_token_id=tokenizer.eos_token_id)\n",
        "    generated_text = tokenizer.decode(generated_ids[0], skip_special_tokens=True, clean_up_tokenization_spaces=True)\n",
        "\n",
        "    print(\"Input Mesra 1:   \", input_sentence)\n",
        "    print(\"\\n-------------------------------\")\n",
        "\n",
        "    # Print generated text in two lines\n",
        "    print(\"Generated :\\n   \")\n",
        "    print(generated_text.replace('،', '،\\n'))\n",
        "    print(\"\\n-------------------------------\")\n",
        "\n",
        "    print(\"Target (original):\\n   \", target_sentence)\n",
        "\n",
        "    print(\"\\n================================================\\n\")\n",
        "\n",
        "\n",
        "# Print results for a few examples on the test data\n",
        "example_indices = [1,3,100]\n",
        "\n",
        "for idx in example_indices:\n",
        "    print(f'Test data, number {idx}\\n')\n",
        "    input_sentence = test_df['mesra1'].iloc[idx]\n",
        "    target_sentence = '\\n' + test_df['mesra1'].iloc[idx] + ' \\n ' + test_df['mesra2'].iloc[idx]  # Original concatenated target\n",
        "    generate_and_print_results(input_sentence, target_sentence, model, tokenizer, device)\n",
        "\n"
      ],
      "metadata": {
        "execution": {
          "iopub.status.busy": "2024-01-19T19:50:03.556630Z",
          "iopub.execute_input": "2024-01-19T19:50:03.556910Z",
          "iopub.status.idle": "2024-01-19T19:50:04.440464Z",
          "shell.execute_reply.started": "2024-01-19T19:50:03.556885Z",
          "shell.execute_reply": "2024-01-19T19:50:04.439392Z"
        },
        "trusted": true,
        "id": "-EEf47odWAd4",
        "colab": {
          "base_uri": "https://localhost:8080/"
        },
        "outputId": "407b050b-fdfb-4a27-dc6c-ce6291fdedea"
      },
      "execution_count": 51,
      "outputs": [
        {
          "output_type": "stream",
          "name": "stdout",
          "text": [
            "Test data, number 1\n",
            "\n",
            "Input Mesra 1:    بیامد پر اندیشه و روی زرد\n",
            "\n",
            "-------------------------------\n",
            "Generated :\n",
            "   \n",
            "بیامد پر اندیشه و روی زرد،\n",
            "به پیش فریدون شد آن شوخ مرد\n",
            "\n",
            "-------------------------------\n",
            "Target (original):\n",
            "    \n",
            "بیامد پر اندیشه و روی زرد \n",
            " بپرسید زان نامداران مرد\n",
            "\n",
            "================================================\n",
            "\n",
            "Test data, number 3\n",
            "\n",
            "Input Mesra 1:    ولیکن بدین رای هشیار من\n",
            "\n",
            "-------------------------------\n",
            "Generated :\n",
            "   \n",
            "ولیکن بدین رای هشیار من،\n",
            "همانا که بود از در کار من\n",
            "\n",
            "-------------------------------\n",
            "Target (original):\n",
            "    \n",
            "ولیکن بدین رای هشیار من \n",
            " یکی بنگرد ژرف سالار من\n",
            "\n",
            "================================================\n",
            "\n",
            "Test data, number 100\n",
            "\n",
            "Input Mesra 1:    کدامست مردی پژوهنده راز\n",
            "\n",
            "-------------------------------\n",
            "Generated :\n",
            "   \n",
            "کدامست مردی پژوهنده راز،\n",
            "کز اندیشهٔ بد بپرداز نیاز\n",
            "\n",
            "-------------------------------\n",
            "Target (original):\n",
            "    \n",
            "کدامست مردی پژوهنده راز \n",
            " که پیماید این ژرف راه دراز\n",
            "\n",
            "================================================\n",
            "\n"
          ]
        }
      ]
    },
    {
      "cell_type": "markdown",
      "source": [
        "---"
      ],
      "metadata": {
        "id": "G694Im049_qp"
      }
    },
    {
      "cell_type": "markdown",
      "source": [
        "**Perplexity**"
      ],
      "metadata": {
        "id": "ZZQCephz5GS5"
      }
    },
    {
      "cell_type": "markdown",
      "source": [
        "Perplexity is a measure used to evaluate the performance of a language model in predicting a given sequence of words. It is commonly employed in natural language processing and machine learning tasks, especially in the context of probabilistic models.\n",
        "\n",
        "The perplexity of a language model on a particular dataset is calculated based on the likelihood of the model predicting the sequence of words in that dataset. The lower the perplexity, the better the model is at predicting the given sequences. The formula for perplexity is often expressed as:\n",
        "\n",
        "Perplexity=exp(Cross Entropy Loss)\n",
        "\n",
        "\n"
      ],
      "metadata": {
        "id": "z7KIVc8P9s2l"
      }
    },
    {
      "cell_type": "code",
      "source": [
        "def calculate_perplexity(model, dataloader, criterion, device):\n",
        "    model.eval()\n",
        "    total_loss = 0\n",
        "    total_tokens = 0\n",
        "\n",
        "    with torch.no_grad():\n",
        "        for batch in dataloader:\n",
        "            input_ids = batch['input_ids'].to(device)\n",
        "            attention_mask = batch['attention_mask'].to(device)\n",
        "            labels = batch['labels'].to(device)\n",
        "            outputs = model(input_ids, attention_mask=attention_mask, labels=labels)\n",
        "            loss = outputs.loss\n",
        "            total_loss += loss.item()\n",
        "            total_tokens += attention_mask.sum().item()\n",
        "\n",
        "    perplexity = np.exp(total_loss / total_tokens)\n",
        "    return perplexity\n",
        "\n",
        "test_perplexity = calculate_perplexity(model, test_loader, criterion, device)\n",
        "print(f\"Perplexity on the test set: {test_perplexity}\")"
      ],
      "metadata": {
        "id": "_BOmHkvTjqdh",
        "colab": {
          "base_uri": "https://localhost:8080/"
        },
        "outputId": "4eacbb97-da85-4fd5-e2ef-8669dc7dc8aa"
      },
      "execution_count": 107,
      "outputs": [
        {
          "output_type": "stream",
          "name": "stdout",
          "text": [
            "Perplexity on the test set: 1.0146381756956528\n"
          ]
        }
      ]
    }
  ]
}